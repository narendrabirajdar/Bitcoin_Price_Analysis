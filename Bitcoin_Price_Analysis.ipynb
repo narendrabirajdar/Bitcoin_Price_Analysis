{
 "cells": [
  {
   "cell_type": "markdown",
   "id": "45ca8370",
   "metadata": {},
   "source": [
    "# 1. Lets Read data & perform basic analysis !"
   ]
  },
  {
   "cell_type": "code",
   "execution_count": null,
   "id": "0a7a42a3",
   "metadata": {},
   "outputs": [],
   "source": [
    "import pandas as pd # data pre-processing, CSV file I/O (e.g. pd.read_csv)\n",
    "import numpy as np # import it for numerical computation on data \n",
    "import matplotlib.pyplot as plt ## data viz libraries \n",
    "import seaborn as sns"
   ]
  },
  {
   "cell_type": "code",
   "execution_count": null,
   "id": "78b7803a",
   "metadata": {},
   "outputs": [],
   "source": [
    "df = pd.read_csv(r'bitcoin_price_data.csv')"
   ]
  },
  {
   "cell_type": "code",
   "execution_count": null,
   "id": "bacce8f8",
   "metadata": {},
   "outputs": [],
   "source": [
    "df.head(3)"
   ]
  },
  {
   "cell_type": "code",
   "execution_count": null,
   "id": "722bcb57",
   "metadata": {},
   "outputs": [],
   "source": [
    "df.columns"
   ]
  },
  {
   "cell_type": "code",
   "execution_count": null,
   "id": "3f29186f",
   "metadata": {},
   "outputs": [],
   "source": [
    "df.shape"
   ]
  },
  {
   "cell_type": "code",
   "execution_count": null,
   "id": "3741426f",
   "metadata": {},
   "outputs": [],
   "source": [
    "df.info()"
   ]
  },
  {
   "cell_type": "code",
   "execution_count": null,
   "id": "1f75f4e0",
   "metadata": {},
   "outputs": [],
   "source": [
    "df.loc[:, df.columns != 'Date'].describe().T"
   ]
  },
  {
   "cell_type": "markdown",
   "id": "54e8964f",
   "metadata": {},
   "source": [
    "# 2. Doing Data Pre-processing !"
   ]
  },
  {
   "cell_type": "code",
   "execution_count": null,
   "id": "d07f71f6",
   "metadata": {},
   "outputs": [],
   "source": [
    "df.dtypes"
   ]
  },
  {
   "cell_type": "markdown",
   "id": "6f0244c2",
   "metadata": {},
   "source": [
    "To do a time series analysis, a date must be in date-time format; however, in the current dataset, the date is stated as an object that needs to be converted to date-time format."
   ]
  },
  {
   "cell_type": "code",
   "execution_count": null,
   "id": "5d723662",
   "metadata": {},
   "outputs": [],
   "source": [
    "# convert feature into date-time\n",
    "\n",
    "df['Date'] = df['Date'].astype('datetime64[ns]')\n",
    "\n",
    "# pd.to_datetime()"
   ]
  },
  {
   "cell_type": "code",
   "execution_count": null,
   "id": "4c1bf7bf",
   "metadata": {},
   "outputs": [],
   "source": [
    "df['Date'].min()"
   ]
  },
  {
   "cell_type": "code",
   "execution_count": null,
   "id": "5b6c04de",
   "metadata": {},
   "outputs": [],
   "source": [
    "df['Date'].max()"
   ]
  },
  {
   "cell_type": "code",
   "execution_count": null,
   "id": "b148b109",
   "metadata": {},
   "outputs": [],
   "source": [
    "df['Date']"
   ]
  },
  {
   "cell_type": "code",
   "execution_count": null,
   "id": "2229c599",
   "metadata": {},
   "outputs": [],
   "source": [
    "type(df['Date'][0])\n",
    "\n",
    "# Timestamp is a Scaler Class"
   ]
  },
  {
   "cell_type": "code",
   "execution_count": null,
   "id": "e11cb654",
   "metadata": {},
   "outputs": [],
   "source": [
    "df.isnull().sum() \n",
    "\n",
    "# check whether we have missing value or not !"
   ]
  },
  {
   "cell_type": "code",
   "execution_count": null,
   "id": "c7cec482",
   "metadata": {},
   "outputs": [],
   "source": [
    "df.duplicated().sum()  \n",
    "# No duplicated value "
   ]
  },
  {
   "cell_type": "markdown",
   "id": "3f1caf2c",
   "metadata": {},
   "source": [
    "#### Now sort the dataset from oldest - recent"
   ]
  },
  {
   "cell_type": "code",
   "execution_count": null,
   "id": "34345d1b",
   "metadata": {},
   "outputs": [],
   "source": [
    "df.head(3)"
   ]
  },
  {
   "cell_type": "code",
   "execution_count": null,
   "id": "2e61bca8",
   "metadata": {},
   "outputs": [],
   "source": [
    "df.tail(5)"
   ]
  },
  {
   "cell_type": "code",
   "execution_count": null,
   "id": "614ed732",
   "metadata": {},
   "outputs": [],
   "source": [
    "data = df.sort_index(ascending=False).reset_index()"
   ]
  },
  {
   "cell_type": "markdown",
   "id": "f9c92175",
   "metadata": {},
   "source": [
    "# 3. Analysing change in price of the stock overtime ?"
   ]
  },
  {
   "cell_type": "code",
   "execution_count": null,
   "id": "8cfa8673",
   "metadata": {},
   "outputs": [],
   "source": [
    "data.drop('index' , axis=1 , inplace=True)"
   ]
  },
  {
   "cell_type": "code",
   "execution_count": null,
   "id": "34069285",
   "metadata": {},
   "outputs": [],
   "source": [
    "data"
   ]
  },
  {
   "cell_type": "code",
   "execution_count": null,
   "id": "1b5bd06a",
   "metadata": {},
   "outputs": [],
   "source": [
    "data.columns"
   ]
  },
  {
   "cell_type": "code",
   "execution_count": null,
   "id": "4b95b782",
   "metadata": {},
   "outputs": [],
   "source": [
    "plt.figure(figsize=(20,12))\n",
    "\n",
    "for index , col in enumerate(['Open', 'High', 'Low', 'Close'] , 1):\n",
    "    plt.subplot(2,2,index)\n",
    "    plt.plot(df['Date'] , df[col])\n",
    "    plt.title(col)"
   ]
  },
  {
   "cell_type": "markdown",
   "id": "c05d3bcd",
   "metadata": {},
   "source": [
    "# 4. Analysing open , high , low , close value of Bitcoin !"
   ]
  },
  {
   "cell_type": "code",
   "execution_count": null,
   "id": "c9a1cbd9",
   "metadata": {},
   "outputs": [],
   "source": [
    "data.shape"
   ]
  },
  {
   "cell_type": "code",
   "execution_count": null,
   "id": "04b9a85c",
   "metadata": {},
   "outputs": [],
   "source": [
    "bitcoin_sample = data[0:50]\n"
   ]
  },
  {
   "cell_type": "markdown",
   "id": "f896a59e",
   "metadata": {},
   "source": [
    "Lets do proper setup of Plotly so that we can leverage power of Plotly & Cufflinks"
   ]
  },
  {
   "cell_type": "code",
   "execution_count": null,
   "id": "f120c6c8",
   "metadata": {},
   "outputs": [],
   "source": [
    "!pip install chart-studio\n",
    "!pip install plotly"
   ]
  },
  {
   "cell_type": "code",
   "execution_count": null,
   "id": "2ec55fb4",
   "metadata": {},
   "outputs": [],
   "source": [
    "import chart_studio.plotly as py\n",
    "\n",
    "import plotly.graph_objs as go\n",
    "\n",
    "import plotly.express as px\n",
    "\n",
    "from plotly.offline import download_plotlyjs , init_notebook_mode , plot , iplot"
   ]
  },
  {
   "cell_type": "code",
   "execution_count": null,
   "id": "e00374d3",
   "metadata": {},
   "outputs": [],
   "source": [
    "init_notebook_mode(connected=True)"
   ]
  },
  {
   "cell_type": "code",
   "execution_count": null,
   "id": "20d30552",
   "metadata": {},
   "outputs": [],
   "source": [
    "trace = go.Candlestick(x=bitcoin_sample['Date'] , \n",
    "              high =bitcoin_sample['High'] , \n",
    "              open = bitcoin_sample['Open'] , \n",
    "              close = bitcoin_sample['Close'] , \n",
    "              low = bitcoin_sample['Low'])"
   ]
  },
  {
   "cell_type": "code",
   "execution_count": null,
   "id": "87142353",
   "metadata": {},
   "outputs": [],
   "source": [
    "candle_data = [trace]\n",
    "\n",
    "layout = {\n",
    "    'title':'Bitcoin Historical Price' , \n",
    "    'xaxis':{'title':'Date'}\n",
    "}"
   ]
  },
  {
   "cell_type": "code",
   "execution_count": null,
   "id": "46fa109d",
   "metadata": {},
   "outputs": [],
   "source": [
    "fig = go.Figure(data = candle_data , layout=layout)\n",
    "\n",
    "fig.update_layout(xaxis_rangeslider_visible = False)\n",
    "fig.show()"
   ]
  },
  {
   "cell_type": "markdown",
   "id": "d77affe0",
   "metadata": {},
   "source": [
    "# 5. Analysing closing price (on normal scale & log-scale)"
   ]
  },
  {
   "cell_type": "code",
   "execution_count": null,
   "id": "a6a89da1",
   "metadata": {},
   "outputs": [],
   "source": [
    "data['Close']"
   ]
  },
  {
   "cell_type": "code",
   "execution_count": null,
   "id": "57c2c095",
   "metadata": {},
   "outputs": [],
   "source": [
    "data['Close'].plot()"
   ]
  },
  {
   "cell_type": "code",
   "execution_count": null,
   "id": "4dfcf007",
   "metadata": {},
   "outputs": [],
   "source": [
    "data.set_index('Date' , inplace=True)"
   ]
  },
  {
   "cell_type": "code",
   "execution_count": null,
   "id": "53ca7784",
   "metadata": {},
   "outputs": [],
   "source": [
    "data"
   ]
  },
  {
   "cell_type": "code",
   "execution_count": null,
   "id": "50ffa309",
   "metadata": {},
   "outputs": [],
   "source": [
    "data['Close'].plot()"
   ]
  },
  {
   "cell_type": "code",
   "execution_count": null,
   "id": "5eda98ea",
   "metadata": {},
   "outputs": [],
   "source": [
    "np.log1p(data['Close']).plot()"
   ]
  },
  {
   "cell_type": "code",
   "execution_count": null,
   "id": "e5e288da",
   "metadata": {},
   "outputs": [],
   "source": [
    "plt.figure(figsize=(20,6))\n",
    "\n",
    "plt.subplot(1,2,1)\n",
    "data['Close'].plot()\n",
    "plt.title('No scaling')\n",
    "\n",
    "plt.subplot(1,2,2)\n",
    "np.log1p(data['Close']).plot()\n",
    "plt.title('Log scaling')\n",
    "plt.yscale('log')"
   ]
  },
  {
   "cell_type": "markdown",
   "id": "1d46d8c0",
   "metadata": {},
   "source": [
    "Logarithmic price scales are better than linear price scales at showing less severe price increases or decreases..\n",
    "log scale is always better if u have outliers or some high values in data"
   ]
  },
  {
   "cell_type": "markdown",
   "id": "d4bc076c",
   "metadata": {},
   "source": [
    "Some features of the plot above:\n",
    "    1.There is an up-ward trend from 2016 for each graph\n",
    "    2.There is no seasonality\n",
    "    3.There are no outlier"
   ]
  },
  {
   "cell_type": "markdown",
   "id": "62dec753",
   "metadata": {},
   "source": [
    "# 6. Analyse closing Price on Yearly , Quarterly , monthly basis !"
   ]
  },
  {
   "cell_type": "code",
   "execution_count": null,
   "id": "ba741d13",
   "metadata": {},
   "outputs": [],
   "source": [
    "data.head(4)"
   ]
  },
  {
   "cell_type": "code",
   "execution_count": null,
   "id": "7796b194",
   "metadata": {},
   "outputs": [],
   "source": [
    "# finding avg price of bitcoin on yearly basis\n",
    "\n",
    "data['Close'].resample('Y').mean()"
   ]
  },
  {
   "cell_type": "code",
   "execution_count": null,
   "id": "566876bd",
   "metadata": {},
   "outputs": [],
   "source": [
    "data['Close'].resample('Y').mean().plot()"
   ]
  },
  {
   "cell_type": "code",
   "execution_count": null,
   "id": "cfebbd60",
   "metadata": {},
   "outputs": [],
   "source": [
    "# finding avg price of bitcoin on quarterly basis\n",
    "\n",
    "data['Close'].resample('Q').mean()"
   ]
  },
  {
   "cell_type": "code",
   "execution_count": null,
   "id": "20438905",
   "metadata": {},
   "outputs": [],
   "source": [
    "data['Close'].resample('Q').mean().plot()"
   ]
  },
  {
   "cell_type": "code",
   "execution_count": null,
   "id": "d90d2dc6",
   "metadata": {},
   "outputs": [],
   "source": [
    "# finding avg price of bitcoin on monthly basis\n",
    "\n",
    "data['Close'].resample('M').mean()"
   ]
  },
  {
   "cell_type": "code",
   "execution_count": null,
   "id": "54e4bdf1",
   "metadata": {},
   "outputs": [],
   "source": [
    "data['Close'].resample('M').mean().plot()"
   ]
  },
  {
   "cell_type": "markdown",
   "id": "543e261b",
   "metadata": {},
   "source": [
    "# 7.  analysing Daily change in Closing price of stocks"
   ]
  },
  {
   "cell_type": "markdown",
   "id": "19de8cda",
   "metadata": {},
   "source": [
    "Daily Stock Return Formula\n",
    "To calculate how much you gained or lost per day for a stock, subtract the opening price from the closing price. Then, multiply the result by the number of shares you own in the company. "
   ]
  },
  {
   "cell_type": "code",
   "execution_count": null,
   "id": "c8b5bfec",
   "metadata": {},
   "outputs": [],
   "source": [
    "data['Close']"
   ]
  },
  {
   "cell_type": "code",
   "execution_count": null,
   "id": "55df48a4",
   "metadata": {},
   "outputs": [],
   "source": [
    "data['Close_price_pct_change'] = data['Close'].pct_change()*100"
   ]
  },
  {
   "cell_type": "code",
   "execution_count": null,
   "id": "c2350dc5",
   "metadata": {},
   "outputs": [],
   "source": [
    "data['Close_price_pct_change']"
   ]
  },
  {
   "cell_type": "code",
   "execution_count": null,
   "id": "3beb0802",
   "metadata": {},
   "outputs": [],
   "source": [
    "data['Close_price_pct_change'].plot()"
   ]
  },
  {
   "cell_type": "markdown",
   "id": "001bebf0",
   "metadata": {},
   "source": [
    "If u want to make this Pandas plot interactive , u can think of using cufflinks & Plotly "
   ]
  },
  {
   "cell_type": "code",
   "execution_count": null,
   "id": "812b32d6",
   "metadata": {},
   "outputs": [],
   "source": [
    "import chart_studio.plotly as py\n",
    "\n",
    "import plotly.graph_objs as go\n",
    "\n",
    "import plotly.express as px\n",
    "\n",
    "from plotly.offline import download_plotlyjs , init_notebook_mode , plot , iplot\n",
    "init_notebook_mode(connected=True)\n"
   ]
  },
  {
   "cell_type": "code",
   "execution_count": null,
   "id": "58d60c98",
   "metadata": {},
   "outputs": [],
   "source": [
    "!pip install cufflinks"
   ]
  },
  {
   "cell_type": "code",
   "execution_count": null,
   "id": "e620ee7a",
   "metadata": {},
   "outputs": [],
   "source": [
    "import cufflinks as cf"
   ]
  },
  {
   "cell_type": "code",
   "execution_count": null,
   "id": "d8bb2a07",
   "metadata": {},
   "outputs": [],
   "source": [
    "cf.go_offline()"
   ]
  },
  {
   "cell_type": "code",
   "execution_count": null,
   "id": "26b7d405",
   "metadata": {},
   "outputs": [],
   "source": [
    "data['Close_price_pct_change']"
   ]
  },
  {
   "cell_type": "code",
   "execution_count": null,
   "id": "5badee55",
   "metadata": {},
   "outputs": [],
   "source": [
    "type(data['Close_price_pct_change'])"
   ]
  },
  {
   "cell_type": "code",
   "execution_count": null,
   "id": "89dcf015",
   "metadata": {},
   "outputs": [],
   "source": [
    "data['Close_price_pct_change'].iplot()"
   ]
  }
 ],
 "metadata": {
  "kernelspec": {
   "display_name": "Python 3 (ipykernel)",
   "language": "python",
   "name": "python3"
  },
  "language_info": {
   "codemirror_mode": {
    "name": "ipython",
    "version": 3
   },
   "file_extension": ".py",
   "mimetype": "text/x-python",
   "name": "python",
   "nbconvert_exporter": "python",
   "pygments_lexer": "ipython3",
   "version": "3.11.5"
  }
 },
 "nbformat": 4,
 "nbformat_minor": 5
}
